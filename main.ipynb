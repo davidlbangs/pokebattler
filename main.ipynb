{
 "cells": [
  {
   "cell_type": "code",
   "execution_count": 1,
   "metadata": {},
   "outputs": [],
   "source": [
    "from pkb_stats import *"
   ]
  },
  {
   "cell_type": "code",
   "execution_count": 2,
   "metadata": {},
   "outputs": [
    {
     "name": "stdout",
     "output_type": "stream",
     "text": [
      "\n",
      "Types and Symbols:\n",
      "Fighting\n",
      "Fairy\n",
      "メ\n",
      "⏚\n"
     ]
    }
   ],
   "source": [
    "print(\"\\nTypes and Symbols:\")\n",
    "print(TypeOfChargeMove(\"Dynamic Punch\"))\n",
    "print(TypeOfQuickMove(\"Charm\"))\n",
    "print(SymbolForType(\"Fighting\"))\n",
    "print(SymbolForType(\"Ground\"))"
   ]
  },
  {
   "cell_type": "code",
   "execution_count": 3,
   "metadata": {},
   "outputs": [
    {
     "name": "stdout",
     "output_type": "stream",
     "text": [
      "\n",
      "QuickMove:\n",
      "Charm\n",
      "Fairy\n",
      "16\n",
      "6\n",
      "3\n",
      "6\n"
     ]
    }
   ],
   "source": [
    "print(\"\\nQuickMove:\")\n",
    "qm = QuickMove(\"Charm\")\n",
    "print(qm.strMove)\n",
    "print(qm.strType)\n",
    "print(qm.valDamage)\n",
    "print(qm.valEnergy)\n",
    "print(qm.cTurnsToQuick)\n",
    "print(qm.RoundUpTurns(5))"
   ]
  },
  {
   "cell_type": "code",
   "execution_count": 4,
   "metadata": {},
   "outputs": [
    {
     "name": "stdout",
     "output_type": "stream",
     "text": [
      "\n",
      "ChargeMove:\n",
      "Dynamic Punch\n",
      "Fighting\n",
      "50\n",
      "27\n"
     ]
    }
   ],
   "source": [
    "print(\"\\nChargeMove:\")\n",
    "cm = ChargeMove(\"Dynamic Punch\", qm)\n",
    "print(cm.strMove)\n",
    "print(cm.strType)\n",
    "print(cm.valEnergy)\n",
    "print(cm.cTurnsToCharge)"
   ]
  },
  {
   "cell_type": "code",
   "execution_count": 5,
   "metadata": {},
   "outputs": [
    {
     "name": "stdout",
     "output_type": "stream",
     "text": [
      "\n",
      "Utilities:\n",
      "10\n",
      "1.3333333333333335\n",
      "\n",
      "TypeEffectiveness:\n",
      "-1\n",
      "-2\n"
     ]
    }
   ],
   "source": [
    "print(\"\\nUtilities:\")\n",
    "print(MinMax(5, 10, 20))\n",
    "print(WeightedAverage(1, 2, 2/3))\n",
    "print(\"\\nTypeEffectiveness:\")\n",
    "print(TypeEffectiveness(\"Fire\", \"Water\"))\n",
    "print(TypeEffectiveness(\"Ground\", \"Flying\"))"
   ]
  },
  {
   "cell_type": "code",
   "execution_count": 6,
   "metadata": {},
   "outputs": [
    {
     "name": "stdout",
     "output_type": "stream",
     "text": [
      "\n",
      "Pokemon:\n",
      "name: Togekiss\n",
      "types: Fairy , Flying\n",
      "default moves: Charm, Ancient Power\n"
     ]
    }
   ],
   "source": [
    "print(\"\\nPokemon:\")\n",
    "pk = Pokemon(\"Togekiss, Charm, ancient_POWER, Flamethrower\", \"15, 15, 12\")\n",
    "print(\"name: \" + pk.strName)\n",
    "print(\"types: %s , %s\" % (pk.strType1,pk.strType2))\n",
    "print(\"default moves: %s, %s\" % (pk.qm.strMove, pk.cm.strMove))"
   ]
  },
  {
   "cell_type": "code",
   "execution_count": 7,
   "metadata": {},
   "outputs": [
    {
     "name": "stdout",
     "output_type": "stream",
     "text": [
      "\n",
      "BattleLeague:\n",
      "battle league: ML Flying Cup: \n",
      "cpMax: 10000\n",
      "restriction: Flying\n"
     ]
    }
   ],
   "source": [
    "\n",
    "print(\"\\nBattleLeague:\")\n",
    "bl = BattleLeague(\"ML Flying Cup\")\n",
    "print(\"battle league: %s: \" % bl.strBattleLeague)\n",
    "print(\"cpMax: %d\" % bl.cpMax)\n",
    "print(\"restriction: %s\" % bl.strRestriction)"
   ]
  },
  {
   "cell_type": "code",
   "execution_count": 8,
   "metadata": {},
   "outputs": [
    {
     "name": "stdout",
     "output_type": "stream",
     "text": [
      "\n",
      "QualifyPokemon:\n",
      "Togekiss is fighting in ML Flying Cup\n",
      "level: 40.0\n",
      "cp: 3308\n",
      "hp: 165\n"
     ]
    }
   ],
   "source": [
    "print(\"\\nQualifyPokemon:\")\n",
    "QualifyPokemon(pk, bl, False)\n",
    "string = pk.strName + \" is fighting in \" + bl.strBattleLeague\n",
    "print(string)\n",
    "print(\"level: %.1f\" % pk.bstat.level)\n",
    "print(\"cp: %d\" % pk.bstat.cp)\n",
    "print(\"hp: %d\" % pk.bstat.hp)"
   ]
  },
  {
   "cell_type": "code",
   "execution_count": 9,
   "metadata": {},
   "outputs": [
    {
     "name": "stdout",
     "output_type": "stream",
     "text": [
      "\n",
      "TypeEffectiveness: \n",
      "Togekiss using Charm has type effectiveness multiplier of 0.75 against Metagross\n",
      "Togekiss using Ancient Power has type effectiveness multiplier of 0.62 against Metagross\n",
      "Togekiss using Flamethrower has type effectiveness multiplier of 1.60 against Metagross\n"
     ]
    }
   ],
   "source": [
    "print(\"\\nTypeEffectiveness: \")\n",
    "pkDefender = Pokemon(\"Metagross, Bullet Punch, Meteor Mash\")\n",
    "mult = TypeEffectivenessMultiplier(pk.qm.strType, pk, pkDefender)\n",
    "print(\"%s using %s has type effectiveness multiplier of %.2f against %s\"\n",
    "      % (pk.strName, pk.qm.strMove, mult, pkDefender.strName))\n",
    "mult = TypeEffectivenessMultiplier(pk.cm.strType, pk, pkDefender)\n",
    "print(\"%s using %s has type effectiveness multiplier of %.2f against %s\"\n",
    "      % (pk.strName, pk.cm.strMove, mult, pkDefender.strName))\n",
    "mult = TypeEffectivenessMultiplier(\"Fire\", pk, pkDefender)\n",
    "print(\"%s using %s has type effectiveness multiplier of %.2f against %s\"\n",
    "      % (pk.strName, \"Flamethrower\", mult, pkDefender.strName))"
   ]
  },
  {
   "cell_type": "code",
   "execution_count": null,
   "metadata": {},
   "outputs": [],
   "source": []
  }
 ],
 "metadata": {
  "kernelspec": {
   "display_name": "Python 3",
   "language": "python",
   "name": "python3"
  },
  "language_info": {
   "codemirror_mode": {
    "name": "ipython",
    "version": 3
   },
   "file_extension": ".py",
   "mimetype": "text/x-python",
   "name": "python",
   "nbconvert_exporter": "python",
   "pygments_lexer": "ipython3",
   "version": "3.8.3"
  }
 },
 "nbformat": 4,
 "nbformat_minor": 4
}
