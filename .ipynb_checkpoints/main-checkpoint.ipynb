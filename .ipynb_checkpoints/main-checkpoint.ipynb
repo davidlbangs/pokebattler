{
 "cells": [
  {
   "cell_type": "code",
   "execution_count": 1,
   "metadata": {},
   "outputs": [],
   "source": [
    "from pkb_stats import *"
   ]
  },
  {
   "cell_type": "code",
   "execution_count": 2,
   "metadata": {},
   "outputs": [
    {
     "name": "stdout",
     "output_type": "stream",
     "text": [
      "\n",
      "Types and Symbols:\n",
      "Fighting\n",
      "Fairy\n",
      "メ\n",
      "⏚\n"
     ]
    }
   ],
   "source": [
    "print(\"\\nTypes and Symbols:\")\n",
    "print(TypeOfChargeMove(\"Dynamic Punch\"))\n",
    "print(TypeOfQuickMove(\"Charm\"))\n",
    "print(SymbolForType(\"Fighting\"))\n",
    "print(SymbolForType(\"Ground\"))"
   ]
  },
  {
   "cell_type": "code",
   "execution_count": 3,
   "metadata": {},
   "outputs": [
    {
     "name": "stdout",
     "output_type": "stream",
     "text": [
      "\n",
      "QuickMove:\n",
      "Charm\n",
      "Fairy\n",
      "16\n",
      "6\n",
      "3\n",
      "6\n"
     ]
    }
   ],
   "source": [
    "print(\"\\nQuickMove:\")\n",
    "qm = QuickMove(\"Charm\")\n",
    "print(qm.strMove)\n",
    "print(qm.strType)\n",
    "print(qm.valDamage)\n",
    "print(qm.valEnergy)\n",
    "print(qm.cTurnsToQuick)\n",
    "print(qm.RoundUpTurns(5))"
   ]
  },
  {
   "cell_type": "code",
   "execution_count": null,
   "metadata": {},
   "outputs": [],
   "source": []
  }
 ],
 "metadata": {
  "kernelspec": {
   "display_name": "Python 3",
   "language": "python",
   "name": "python3"
  },
  "language_info": {
   "codemirror_mode": {
    "name": "ipython",
    "version": 3
   },
   "file_extension": ".py",
   "mimetype": "text/x-python",
   "name": "python",
   "nbconvert_exporter": "python",
   "pygments_lexer": "ipython3",
   "version": "3.8.3"
  }
 },
 "nbformat": 4,
 "nbformat_minor": 4
}
